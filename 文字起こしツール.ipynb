{
  "cells": [
    {
      "cell_type": "code",
      "execution_count": null,
      "metadata": {
        "id": "X0UHzwzkIe1j"
      },
      "outputs": [],
      "source": [
        "pip install git+https://github.com/openai/whisper.git"
      ]
    },
    {
      "cell_type": "code",
      "execution_count": null,
      "metadata": {
        "id": "--8tw1_CKVqp"
      },
      "outputs": [],
      "source": [
        "import datetime\n",
        "import os\n",
        "import time\n",
        "from typing import List\n",
        "import whisper\n",
        "import json\n",
        "import glob\n",
        "\n",
        "# 音声ファイルの一覧情報を取得する\n",
        "def get_audio_files() -> List[str]:\n",
        "    paths: List[str] = []\n",
        "    exts = ('mov', 'mp3')\n",
        "    for ext in exts:\n",
        "        paths += glob.glob(f'*.{ext}')\n",
        "    return paths\n",
        "\n",
        "# 文字起こしを実行する\n",
        "def execute_audio_to_text(audio_file:str, model_name:str):\n",
        "    print(f'モデルを読み込み({model_name})...')\n",
        "    model = whisper.load_model(model_name)  # モデルを読み込む\n",
        "\n",
        "    print(f'文字起こし開始({audio_file}, {model_name})')\n",
        "    start = time.time()  # 現在時刻（処理開始前）を取得\n",
        "    result = model.transcribe(audio_file, verbose=True)  # 音声ファイルを指定する\n",
        "    end = time.time()  # 現在時刻（処理完了後）を取得\n",
        "\n",
        "    time_diff = end - start  # 処理完了後の時刻から処理開始前の時刻を減算する\n",
        "    print(f'文字起こし完了({audio_file},{model_name}) >> 所要時間:{round(time_diff, 1)}秒')\n",
        "\n",
        "    # 文字起こし結果をファイルに保存\n",
        "    base_name = os.path.splitext(os.path.basename(audio_file))[0]\n",
        "    output_json = f'{base_name}_文字起こし結果.json'\n",
        "    output_txt = f'{base_name}_文字起こし結果.txt'\n",
        "    with open(output_json, 'w', encoding='utf-8') as file:\n",
        "        file.write(json.dumps(result, indent=2, ensure_ascii=False))\n",
        "\n",
        "def main():\n",
        "    audio_files = get_audio_files()\n",
        "    for audio_file in audio_files:\n",
        "        execute_audio_to_text(audio_file, 'large-v3')\n",
        "\n",
        "main()\n"
      ]
    },
    {
      "cell_type": "code",
      "execution_count": null,
      "metadata": {
        "id": "DH6Vghv9vfcK"
      },
      "outputs": [],
      "source": []
    }
  ],
  "metadata": {
    "accelerator": "GPU",
    "colab": {
      "gpuType": "T4",
      "provenance": []
    },
    "kernelspec": {
      "display_name": "Python 3",
      "name": "python3"
    },
    "language_info": {
      "name": "python"
    }
  },
  "nbformat": 4,
  "nbformat_minor": 0
}